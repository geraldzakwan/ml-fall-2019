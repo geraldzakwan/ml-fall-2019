{
 "cells": [
  {
   "cell_type": "code",
   "execution_count": 1,
   "metadata": {},
   "outputs": [],
   "source": [
    "import numpy as np\n",
    "\n",
    "def load_csv_to_ndarray(filepath):\n",
    "    # Read using numpy lib and return all rows, no header in this case\n",
    "    return np.genfromtxt(filepath, dtype=float, delimiter=',')\n",
    "\n",
    "def transform_feature(one_dim_feature_vector):\n",
    "    transformed_feature_vector = np.zeros((len(one_dim_feature_vector), 2*128))\n",
    "    \n",
    "    for i in range(0, len(one_dim_feature_vector)):\n",
    "        feature = one_dim_feature_vector[i]\n",
    "        transformed_feature = np.zeros(2*128)\n",
    "        \n",
    "        for c in range(0, 128):\n",
    "            transformed_feature[2*c] = np.cos((c+1) * feature)\n",
    "            transformed_feature[(2*c)+1] = np.sin((c+1) * feature)\n",
    "        \n",
    "        transformed_feature_vector[i] = transformed_feature\n",
    "        \n",
    "    return transformed_feature_vector "
   ]
  },
  {
   "cell_type": "code",
   "execution_count": 2,
   "metadata": {},
   "outputs": [
    {
     "name": "stdout",
     "output_type": "stream",
     "text": [
      "(32, 2)\n",
      "(2079,)\n"
     ]
    }
   ],
   "source": [
    "from helper import load_csv_to_ndarray\n",
    "\n",
    "\n",
    "train_df = load_csv_to_ndarray('hw3p1_train.csv')\n",
    "test_df = load_csv_to_ndarray('hw3p1_test.csv')\n",
    "\n",
    "print(train_df.shape)\n",
    "print(test_df.shape)"
   ]
  },
  {
   "cell_type": "code",
   "execution_count": 3,
   "metadata": {},
   "outputs": [
    {
     "name": "stdout",
     "output_type": "stream",
     "text": [
      "[-3.0434   -2.8439   -2.6444   -2.4449   -2.2454   -2.0458   -1.8463\n",
      " -1.6468   -1.4473   -1.2478   -1.0483   -0.84874  -0.64922  -0.4497\n",
      " -0.25019  -0.050671  0.14885   0.34836   0.54788   0.7474    0.94691\n",
      "  1.1464    1.3459    1.5455    1.745     1.9445    2.144     2.3435\n",
      "  2.543     2.7426    2.9421    3.1416  ]\n"
     ]
    }
   ],
   "source": [
    "print(train_df[:,0])"
   ]
  },
  {
   "cell_type": "code",
   "execution_count": 4,
   "metadata": {},
   "outputs": [
    {
     "data": {
      "text/plain": [
       "array([[-0.99518297, -0.99518297,  0.9807783 , ..., -0.99540477,\n",
       "         0.99999738,  0.99999738],\n",
       "       [-0.95601581, -0.95601581,  0.82793247, ..., -0.99418927,\n",
       "         0.91888641,  0.91888641],\n",
       "       [-0.87892502, -0.87892502,  0.54501837, ..., -0.95183999,\n",
       "         0.69036231,  0.69036231],\n",
       "       ...,\n",
       "       [-0.92145281, -0.92145281,  0.69815055, ..., -0.9184769 ,\n",
       "         0.69269505,  0.69269505],\n",
       "       [-0.98016725, -0.98016725,  0.92145566, ..., -0.97950127,\n",
       "         0.92015568,  0.92015568],\n",
       "       [-1.        , -1.        ,  1.        , ..., -0.99999956,\n",
       "         0.99999956,  0.99999956]])"
      ]
     },
     "execution_count": 4,
     "metadata": {},
     "output_type": "execute_result"
    }
   ],
   "source": [
    "transform_feature(train_df[:,0])"
   ]
  },
  {
   "cell_type": "code",
   "execution_count": null,
   "metadata": {},
   "outputs": [],
   "source": []
  }
 ],
 "metadata": {
  "kernelspec": {
   "display_name": "Python 3",
   "language": "python",
   "name": "python3"
  },
  "language_info": {
   "codemirror_mode": {
    "name": "ipython",
    "version": 3
   },
   "file_extension": ".py",
   "mimetype": "text/x-python",
   "name": "python",
   "nbconvert_exporter": "python",
   "pygments_lexer": "ipython3",
   "version": "3.6.5"
  }
 },
 "nbformat": 4,
 "nbformat_minor": 2
}
