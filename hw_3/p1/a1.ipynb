{
 "cells": [
  {
   "cell_type": "code",
   "execution_count": 1,
   "metadata": {},
   "outputs": [],
   "source": [
    "import numpy as np\n",
    "\n",
    "def load_csv_to_ndarray(filepath):\n",
    "    # Read using numpy lib and return all rows, no header in this case\n",
    "    return np.genfromtxt(filepath, dtype=float, delimiter=',')\n",
    "\n",
    "# def transform_features(feature_vectors):\n",
    "#     transformed_features = np.zeros((len(feature_vectors), 2*128))\n",
    "    \n",
    "#     for i in range(0, len(feature_vectors)):\n",
    "#         feature_vector = feature_vectors[i]\n",
    "#         transformed_feature = np.zeros(2*128)\n",
    "        \n",
    "#         for c in range(0, 128):\n",
    "#             transform_feature[2*c] = cos((c+1) * feature_vector[c])\n",
    "#             transform_feature[(2*c)+1] = cos((c+1) * feature_vector[c])\n",
    "        \n",
    "#         transformed_features[i] = transformed_feature\n",
    "        \n",
    "#     return transformed_features    "
   ]
  },
  {
   "cell_type": "code",
   "execution_count": 2,
   "metadata": {},
   "outputs": [
    {
     "name": "stdout",
     "output_type": "stream",
     "text": [
      "(32, 2)\n",
      "(2079,)\n"
     ]
    }
   ],
   "source": [
    "from helper import load_csv_to_ndarray\n",
    "\n",
    "if __name__ == '__main__':\n",
    "    train_df = load_csv_to_ndarray('hw3p1_train.csv')\n",
    "    test_df = load_csv_to_ndarray('hw3p1_test.csv')\n",
    "\n",
    "    print(train_df.shape)\n",
    "    print(test_df.shape)"
   ]
  },
  {
   "cell_type": "code",
   "execution_count": 3,
   "metadata": {},
   "outputs": [
    {
     "name": "stdout",
     "output_type": "stream",
     "text": [
      "[-3.0434  -0.08125]\n"
     ]
    }
   ],
   "source": [
    "print(train_df[0])"
   ]
  },
  {
   "cell_type": "code",
   "execution_count": null,
   "metadata": {},
   "outputs": [],
   "source": []
  }
 ],
 "metadata": {
  "kernelspec": {
   "display_name": "Python 3",
   "language": "python",
   "name": "python3"
  },
  "language_info": {
   "codemirror_mode": {
    "name": "ipython",
    "version": 3
   },
   "file_extension": ".py",
   "mimetype": "text/x-python",
   "name": "python",
   "nbconvert_exporter": "python",
   "pygments_lexer": "ipython3",
   "version": "3.6.5"
  }
 },
 "nbformat": 4,
 "nbformat_minor": 2
}
