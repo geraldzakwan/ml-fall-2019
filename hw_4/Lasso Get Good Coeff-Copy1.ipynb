{
 "cells": [
  {
   "cell_type": "code",
   "execution_count": 1,
   "metadata": {},
   "outputs": [],
   "source": [
    "# import pandas as pd\n",
    "# from collections import defaultdict\n",
    "\n",
    "# df = pd.read_csv('CodeBook-SELECT.csv')\n",
    "# # descs = df['Description'] \n",
    "\n",
    "# core_desc = set([])\n",
    "# core_varname = defaultdict(list)\n",
    "\n",
    "# for i in range(0, 379):\n",
    "#     desc = df.iloc[i]['Description']\n",
    "#     varname = df.iloc[i]['VarName']\n",
    "    \n",
    "#     if varname != 'row':\n",
    "#         core_desc.add(desc[0:10])\n",
    "#         core_varname[desc[0:10]].append(varname)\n",
    "    \n",
    "# sampled_columns = []\n",
    "# for desc in core_varname:\n",
    "#     cols = core_varname[desc]\n",
    "# #     if len(cols) > 50:\n",
    "# #         cols = cols[0:50]\n",
    "#     sampled_columns = sampled_columns + cols\n",
    "# #     sampled_columns.append(cols[0:])\n",
    "    \n",
    "# len(sampled_columns)"
   ]
  },
  {
   "cell_type": "code",
   "execution_count": 2,
   "metadata": {},
   "outputs": [],
   "source": [
    "# df_test = pd.read_csv('hw4-testset-gd2551.csv')\n",
    "# df_train = pd.read_csv('hw4-trainingset-gd2551.csv')\n",
    "# cols = df_train.select_dtypes([object]).columns\n",
    "# print(len(df_train[df_train['gender_r'] == 'Male']))\n",
    "# print(len(df_train[df_train['gender_r'] == 'Female']))\n",
    "# print(len(df_test[df_test['gender_r'] == 'Male']))\n",
    "# print(len(df_test[df_test['gender_r'] == 'Female']))"
   ]
  },
  {
   "cell_type": "code",
   "execution_count": 3,
   "metadata": {},
   "outputs": [],
   "source": [
    "# type_dict = set([])\n",
    "# x = 0\n",
    "# for data_type in df['Description']:\n",
    "#     type_dict.add(data_type)\n",
    "#     if 'numeric' in data_type:\n",
    "#         x = x + 1\n",
    "        \n",
    "# print(x)"
   ]
  },
  {
   "cell_type": "code",
   "execution_count": 4,
   "metadata": {},
   "outputs": [
    {
     "name": "stderr",
     "output_type": "stream",
     "text": [
      "/Library/Frameworks/Python.framework/Versions/3.6/lib/python3.6/site-packages/IPython/core/interactiveshell.py:3044: DtypeWarning: Columns (50,172,255,256,257,258,268,280,376) have mixed types. Specify dtype option on import or set low_memory=False.\n",
      "  interactivity=interactivity, compiler=compiler, result=result)\n"
     ]
    },
    {
     "data": {
      "text/plain": [
       "array([[<matplotlib.axes._subplots.AxesSubplot object at 0x113e14ac8>]],\n",
       "      dtype=object)"
      ]
     },
     "execution_count": 4,
     "metadata": {},
     "output_type": "execute_result"
    },
    {
     "data": {
      "image/png": "[encoded data removed]",
      "text/plain": [
       "<Figure size 432x288 with 1 Axes>"
      ]
     },
     "metadata": {
      "needs_background": "light"
     },
     "output_type": "display_data"
    }
   ],
   "source": [
    "import pandas as pd\n",
    "import numpy as np\n",
    "%matplotlib inline\n",
    "\n",
    "df = pd.read_csv('hw4-trainingset-gd2551.csv')\n",
    "df = df.drop(['uni', 'row'], axis=1)\n",
    "df = df.drop(df[df.gender_r == 'Male'].sample(frac=.4).index)\n",
    "# df = df[sampled_columns]\n",
    "# set(df['cntryid_e'].unique()).difference(set(df['cntryid'].unique()))\n",
    "df.hist(column='job_performance')\n",
    "# df = majority\n",
    "# m_indexes = set(majority.index.to_numpy())\n",
    "\n",
    "# sample_weights = np.zeros(20000)\n",
    "# for i in range(0, len(sample_weights)):\n",
    "#     if i in m_indexes:\n",
    "#         sample_weights[i] = 0.25\n",
    "#     else:\n",
    "#         sample_weights[i] = 0.25"
   ]
  },
  {
   "cell_type": "code",
   "execution_count": 5,
   "metadata": {},
   "outputs": [
    {
     "name": "stdout",
     "output_type": "stream",
     "text": [
      "ALL COLUMNS\n",
      "378\n",
      "CAT COL\n",
      "294\n",
      "BIN COL\n",
      "267\n"
     ]
    }
   ],
   "source": [
    "print('ALL COLUMNS')\n",
    "print(len(df.columns))\n",
    "\n",
    "# dropped_features = []\n",
    "# for key in df:\n",
    "#     if df[key].isna().sum() > 17500:\n",
    "#         dropped_features.append(key)\n",
    "        \n",
    "# print('DROPPED FEATURES:')\n",
    "# print(len(dropped_features))\n",
    "# df = df.drop(dropped_features, axis=1)\n",
    "\n",
    "# df = df.fillna(df.mean().iloc[0])\n",
    "df = df.fillna(df.mode().iloc[0])\n",
    "\n",
    "# Find numeric ones\n",
    "cat_col = []\n",
    "for col in df.columns:\n",
    "#     print(df[col])\n",
    "#     if isinstance(df[col][0], str):\n",
    "#         cat_col.append(col)\n",
    "    if not np.issubdtype(df[col].dtype, np.number):\n",
    "        cat_col.append(col)\n",
    "\n",
    "print('CAT COL')\n",
    "print(len(cat_col))\n",
    "        \n",
    "bin_col = []\n",
    "for col in cat_col:\n",
    "#     x = df[col].dropna().unique() \n",
    "#     df[col] = df[col].replace(to_replace='999', value=df[col].mode())\n",
    "#     print(col)\n",
    "#     print(df[col].mode())\n",
    "    x = df[col].unique()\n",
    "    \n",
    "    if len(x) < 11 and len(x) > 1:\n",
    "#         print(x)\n",
    "#         print(col)\n",
    "#         # Get one hot encoding of columns B\n",
    "#         one_hot = pd.get_dummies(df[col])\n",
    "#         # Drop column B as it is now encoded\n",
    "#         df = df.drop(col,axis = 1)\n",
    "#         # Join the encoded df\n",
    "#         df = df.join(one_hot)\n",
    "        bin_col.append(col)\n",
    "        df[col] = df[col].astype('category').cat.codes\n",
    "        \n",
    "print('BIN COL')\n",
    "print(len(bin_col))"
   ]
  },
  {
   "cell_type": "code",
   "execution_count": 6,
   "metadata": {},
   "outputs": [
    {
     "name": "stdout",
     "output_type": "stream",
     "text": [
      "350\n",
      "350\n"
     ]
    }
   ],
   "source": [
    "# Using Pearson Correlation\n",
    "cor = df.corr()\n",
    "cor_target = cor['job_performance']\n",
    "# cor_target\n",
    "\n",
    "relevant_features = cor_target[cor_target > -0.5]\n",
    "# print(max(relevant_features))\n",
    "# print(min(relevant_features))\n",
    "\n",
    "columns = relevant_features.keys().tolist()\n",
    "print(len(columns))\n",
    "\n",
    "# columns = list(set(columns).union(set(bin_col)))\n",
    "# print(len(columns))\n",
    "\n",
    "# import sys\n",
    "# sys.exit()\n",
    "# columns\n",
    "df = df[columns]\n",
    "print(len(columns))\n",
    "# df = df.drop(['isco1l', 'isco2l', 'v224', 'v105'], axis=1)\n",
    "# print(df.columns.get_loc('job_performance'))\n",
    "# for column in columns:#     print(df[column].unique())"
   ]
  },
  {
   "cell_type": "code",
   "execution_count": 7,
   "metadata": {},
   "outputs": [
    {
     "name": "stdout",
     "output_type": "stream",
     "text": [
      "15002\n"
     ]
    }
   ],
   "source": [
    "majority = df[df['job_performance'] > 0]\n",
    "majority = majority[majority['job_performance'] < 10000]\n",
    "print(len(majority))\n",
    "\n",
    "labels = df['job_performance']\n",
    "df = df.drop(['job_performance'], axis=1)\n",
    "\n",
    "majority_labels = majority['job_performance']\n",
    "majority = majority.drop(['job_performance'], axis=1)"
   ]
  },
  {
   "cell_type": "code",
   "execution_count": 8,
   "metadata": {},
   "outputs": [
    {
     "data": {
      "text/plain": [
       "98682.71181604436"
      ]
     },
     "execution_count": 8,
     "metadata": {},
     "output_type": "execute_result"
    }
   ],
   "source": [
    "import numpy as np\n",
    "from sklearn import datasets, linear_model\n",
    "from sklearn.metrics import mean_squared_error, r2_score\n",
    "from sklearn.preprocessing import PolynomialFeatures\n",
    "\n",
    "\n",
    "# Split the data into training/testing sets\n",
    "X_train = majority.values\n",
    "y_train = majority_labels.values\n",
    "\n",
    "# poly = PolynomialFeatures(3)\n",
    "# poly.fit_transform(X_train)\n",
    "\n",
    "# gbm = xgb.XGBClassifier(max_depth=3, n_estimators=300, learning_rate=0.05).fit(X_train, y_train)\n",
    "# y_pred = gbm.predict(X_train)\n",
    "\n",
    "# Create linear regression object\n",
    "clf = linear_model.LinearRegression()\n",
    "# clf = linear_model.Lasso(alpha=0.1)\n",
    "\n",
    "# Train the model using the training sets\n",
    "clf.fit(X_train, y_train)\n",
    "\n",
    "X_train = df.values\n",
    "y_train = labels.values\n",
    "\n",
    "# poly = PolynomialFeatures(3)\n",
    "# poly.fit_transform(X_train)\n",
    "\n",
    "y_pred = clf.predict(X_train)\n",
    "\n",
    "mean_squared_error(y_train, y_pred)"
   ]
  },
  {
   "cell_type": "code",
   "execution_count": 9,
   "metadata": {},
   "outputs": [
    {
     "data": {
      "text/plain": [
       "168"
      ]
     },
     "execution_count": 9,
     "metadata": {},
     "output_type": "execute_result"
    }
   ],
   "source": [
    "len(clf.coef_[clf.coef_ > 0])"
   ]
  },
  {
   "cell_type": "code",
   "execution_count": 10,
   "metadata": {},
   "outputs": [
    {
     "data": {
      "text/plain": [
       "349"
      ]
     },
     "execution_count": 10,
     "metadata": {},
     "output_type": "execute_result"
    }
   ],
   "source": [
    "len(clf.coef_)"
   ]
  },
  {
   "cell_type": "code",
   "execution_count": null,
   "metadata": {},
   "outputs": [],
   "source": []
  },
  {
   "cell_type": "code",
   "execution_count": null,
   "metadata": {},
   "outputs": [],
   "source": []
  }
 ],
 "metadata": {
  "kernelspec": {
   "display_name": "Python 3",
   "language": "python",
   "name": "python3"
  },
  "language_info": {
   "codemirror_mode": {
    "name": "ipython",
    "version": 3
   },
   "file_extension": ".py",
   "mimetype": "text/x-python",
   "name": "python",
   "nbconvert_exporter": "python",
   "pygments_lexer": "ipython3",
   "version": "3.6.5"
  }
 },
 "nbformat": 4,
 "nbformat_minor": 2
}
