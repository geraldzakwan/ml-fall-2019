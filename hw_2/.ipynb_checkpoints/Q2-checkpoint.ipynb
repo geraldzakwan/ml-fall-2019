{
 "cells": [
  {
   "cell_type": "code",
   "execution_count": 1,
   "metadata": {},
   "outputs": [
    {
     "name": "stdout",
     "output_type": "stream",
     "text": [
      "(4920, 9)\n"
     ]
    },
    {
     "data": {
      "text/html": [
       "<div>\n",
       "<style scoped>\n",
       "    .dataframe tbody tr th:only-of-type {\n",
       "        vertical-align: middle;\n",
       "    }\n",
       "\n",
       "    .dataframe tbody tr th {\n",
       "        vertical-align: top;\n",
       "    }\n",
       "\n",
       "    .dataframe thead th {\n",
       "        text-align: right;\n",
       "    }\n",
       "</style>\n",
       "<table border=\"1\" class=\"dataframe\">\n",
       "  <thead>\n",
       "    <tr style=\"text-align: right;\">\n",
       "      <th></th>\n",
       "      <th>two_year_recid</th>\n",
       "      <th>sex</th>\n",
       "      <th>age</th>\n",
       "      <th>race</th>\n",
       "      <th>juv_fel_count</th>\n",
       "      <th>juv_misd_count</th>\n",
       "      <th>juv_other_count</th>\n",
       "      <th>priors_count</th>\n",
       "      <th>c_charge_degree</th>\n",
       "    </tr>\n",
       "  </thead>\n",
       "  <tbody>\n",
       "    <tr>\n",
       "      <th>0</th>\n",
       "      <td>0</td>\n",
       "      <td>1</td>\n",
       "      <td>51</td>\n",
       "      <td>0</td>\n",
       "      <td>0</td>\n",
       "      <td>0</td>\n",
       "      <td>0</td>\n",
       "      <td>7</td>\n",
       "      <td>1</td>\n",
       "    </tr>\n",
       "    <tr>\n",
       "      <th>1</th>\n",
       "      <td>1</td>\n",
       "      <td>1</td>\n",
       "      <td>22</td>\n",
       "      <td>1</td>\n",
       "      <td>0</td>\n",
       "      <td>1</td>\n",
       "      <td>0</td>\n",
       "      <td>2</td>\n",
       "      <td>0</td>\n",
       "    </tr>\n",
       "    <tr>\n",
       "      <th>2</th>\n",
       "      <td>0</td>\n",
       "      <td>0</td>\n",
       "      <td>43</td>\n",
       "      <td>0</td>\n",
       "      <td>0</td>\n",
       "      <td>0</td>\n",
       "      <td>0</td>\n",
       "      <td>0</td>\n",
       "      <td>0</td>\n",
       "    </tr>\n",
       "    <tr>\n",
       "      <th>3</th>\n",
       "      <td>0</td>\n",
       "      <td>0</td>\n",
       "      <td>29</td>\n",
       "      <td>0</td>\n",
       "      <td>0</td>\n",
       "      <td>0</td>\n",
       "      <td>1</td>\n",
       "      <td>8</td>\n",
       "      <td>0</td>\n",
       "    </tr>\n",
       "    <tr>\n",
       "      <th>4</th>\n",
       "      <td>0</td>\n",
       "      <td>0</td>\n",
       "      <td>21</td>\n",
       "      <td>1</td>\n",
       "      <td>0</td>\n",
       "      <td>0</td>\n",
       "      <td>0</td>\n",
       "      <td>0</td>\n",
       "      <td>1</td>\n",
       "    </tr>\n",
       "  </tbody>\n",
       "</table>\n",
       "</div>"
      ],
      "text/plain": [
       "   two_year_recid  sex  age  race  juv_fel_count  juv_misd_count  \\\n",
       "0               0    1   51     0              0               0   \n",
       "1               1    1   22     1              0               1   \n",
       "2               0    0   43     0              0               0   \n",
       "3               0    0   29     0              0               0   \n",
       "4               0    0   21     1              0               0   \n",
       "\n",
       "   juv_other_count  priors_count  c_charge_degree  \n",
       "0                0             7                1  \n",
       "1                0             2                0  \n",
       "2                0             0                0  \n",
       "3                1             8                0  \n",
       "4                0             0                1  "
      ]
     },
     "execution_count": 1,
     "metadata": {},
     "output_type": "execute_result"
    }
   ],
   "source": [
    "# TO DO:\n",
    "# 1. Create linear regression -> confirm if it is needed to be from scratch or we can use sklearn\n",
    "# 2. The function is called eta, compute square loss to the test data\n",
    "# 3. Second function is classifier, basically takes threshold and output binary class, compute error & FP rate\n",
    "import pandas as pd\n",
    "\n",
    "df = pd.read_csv('data/compas-train.csv')\n",
    "print(df.shape)\n",
    "df.head()"
   ]
  },
  {
   "cell_type": "code",
   "execution_count": 2,
   "metadata": {},
   "outputs": [],
   "source": [
    "import numpy as np\n",
    "\n",
    "def load_csv_to_ndarray(filepath):\n",
    "    with open(filepath, 'r') as f:\n",
    "        header = f.readline()\n",
    "\n",
    "    data = np.genfromtxt(filepath, dtype=float, delimiter=',')\n",
    "\n",
    "    return header.strip('\\n').split(','), data[1:len(data)]\n",
    "\n",
    "def create_feature_matrix(data):\n",
    "    return data[:, 1:len(data[0])]\n",
    "\n",
    "def create_label_vector(data):\n",
    "    return data[:, 0]\n",
    "\n",
    "def calculate_params(feature_matrix, label_vector):\n",
    "    feature_matrix_transposed = feature_matrix.T\n",
    "\n",
    "    feature_matrix_matmul = np.dot(feature_matrix_transposed, feature_matrix)\n",
    "\n",
    "    try:\n",
    "        inverse_matmul = np.linalg.inv(feature_matrix_matmul)\n",
    "    except numpy.linalg.LinAlgError:\n",
    "        print('MATRIX NOT INVERTIBLE')\n",
    "        raise Exception\n",
    "\n",
    "    return np.dot(np.dot(inverse_matmul, feature_matrix_transposed), label_vector)\n",
    "\n",
    "def predict_values(model_params, feature_matrix):\n",
    "    return np.dot(feature_matrix, model_params)\n",
    "\n",
    "def calculate_squared_loss(prediction_values, label_vector, average=True):\n",
    "    total_squared_loss = np.sum((prediction_values - label_vector) ** 2)\n",
    "\n",
    "    if average:\n",
    "        return total_squared_loss / len(label_vector)\n",
    "\n",
    "    return total_squared_loss\n",
    "\n",
    "def predict_label(predict_values, threshold):\n",
    "    return [1.0 if value > threshold else 0.0 for value in predict_values]\n",
    "\n",
    "def calculate_error_rate(predictions, label_vector):\n",
    "    verdicts = [1 if y_pred == y else 0 for y_pred, y in zip(predictions, label_vector)]\n",
    "\n",
    "    return np.sum(verdicts) / len(label_vector)\n",
    "\n",
    "def calculate_false_positive_rate(predictions, label_vector):\n",
    "    total_false_positives = np.sum([1 if y_pred == 1.0 and y == 0.0 else 0 for y_pred, y in zip(predictions, label_vector)])\n",
    "    total_negatives = np.sum([1 if y == 0.0 else 0 for y in label_vector])\n",
    "\n",
    "    return total_false_positives / total_negatives"
   ]
  },
  {
   "cell_type": "code",
   "execution_count": 3,
   "metadata": {},
   "outputs": [
    {
     "data": {
      "text/plain": [
       "array([1., 1., 0., ..., 0., 0., 0.])"
      ]
     },
     "execution_count": 3,
     "metadata": {},
     "output_type": "execute_result"
    }
   ],
   "source": [
    "data = np.genfromtxt('data/compas-train.csv', dtype=float, delimiter=',', names=True)\n",
    "data['sex']"
   ]
  },
  {
   "cell_type": "code",
   "execution_count": 4,
   "metadata": {},
   "outputs": [
    {
     "name": "stdout",
     "output_type": "stream",
     "text": [
      "(4920, 9)\n"
     ]
    },
    {
     "data": {
      "text/plain": [
       "array([ 0.,  1., 51.,  0.,  0.,  0.,  0.,  7.,  1.])"
      ]
     },
     "execution_count": 4,
     "metadata": {},
     "output_type": "execute_result"
    }
   ],
   "source": [
    "import numpy as np\n",
    "data = np.genfromtxt('data/compas-train.csv', dtype=float, delimiter=',')\n",
    "\n",
    "# Dump the first row (attribute names)\n",
    "data = data[1:len(data)]\n",
    "print(data.shape)\n",
    "data[0]"
   ]
  },
  {
   "cell_type": "code",
   "execution_count": 5,
   "metadata": {},
   "outputs": [
    {
     "ename": "TypeError",
     "evalue": "full() missing 1 required positional argument: 'fill_value'",
     "output_type": "error",
     "traceback": [
      "\u001b[0;31m---------------------------------------------------------------------------\u001b[0m",
      "\u001b[0;31mTypeError\u001b[0m                                 Traceback (most recent call last)",
      "\u001b[0;32m<ipython-input-5-56b0fc1013ac>\u001b[0m in \u001b[0;36m<module>\u001b[0;34m\u001b[0m\n\u001b[1;32m      4\u001b[0m \u001b[0;34m\u001b[0m\u001b[0m\n\u001b[1;32m      5\u001b[0m \u001b[0;31m# Add bias -> x=1 to the x_train:\u001b[0m\u001b[0;34m\u001b[0m\u001b[0;34m\u001b[0m\u001b[0m\n\u001b[0;32m----> 6\u001b[0;31m \u001b[0mbias\u001b[0m \u001b[0;34m=\u001b[0m \u001b[0mnp\u001b[0m\u001b[0;34m.\u001b[0m\u001b[0mfull\u001b[0m\u001b[0;34m(\u001b[0m\u001b[0mlen\u001b[0m\u001b[0;34m(\u001b[0m\u001b[0mx_train\u001b[0m\u001b[0;34m)\u001b[0m\u001b[0;34m,\u001b[0m\u001b[0;34m)\u001b[0m\u001b[0;34m\u001b[0m\u001b[0m\n\u001b[0m\u001b[1;32m      7\u001b[0m \u001b[0mprint\u001b[0m\u001b[0;34m(\u001b[0m\u001b[0mbias\u001b[0m\u001b[0;34m)\u001b[0m\u001b[0;34m\u001b[0m\u001b[0m\n\u001b[1;32m      8\u001b[0m \u001b[0mbias\u001b[0m\u001b[0;34m.\u001b[0m\u001b[0mshape\u001b[0m\u001b[0;34m\u001b[0m\u001b[0m\n",
      "\u001b[0;31mTypeError\u001b[0m: full() missing 1 required positional argument: 'fill_value'"
     ]
    }
   ],
   "source": [
    "# Create matrix of x_train:\n",
    "x_train = data[:, 1:len(data[0])]\n",
    "assert x_train.shape == (4920, 8)\n",
    "\n",
    "# Add bias -> x=1 to the x_train:\n",
    "bias = np.full(len(x_train), 1.0)\n",
    "print(bias)\n",
    "bias.shape\n",
    "\n",
    "# x_train = x_train\n",
    "# assert x_train.shape == (4920, 9)\n",
    "# print(x_train[0])\n",
    "\n",
    "# # Create vector of y_train:\n",
    "# y_train = data[:, 0]\n",
    "# print(y_train.shape)\n",
    "# assert y_train.shape == (4920,)"
   ]
  },
  {
   "cell_type": "markdown",
   "metadata": {},
   "source": [
    "To get the weights, we do something like:\n",
    "\n",
    "$b = (X^{T}X)^{-1}X^{T}y$"
   ]
  },
  {
   "cell_type": "code",
   "execution_count": null,
   "metadata": {},
   "outputs": [],
   "source": [
    "x_train_transposed = x_train.T\n",
    "\n",
    "matmul_x_x_transpose = np.dot(x_train_transposed, x_train)\n",
    "\n",
    "try:\n",
    "    inverse_matmul = np.linalg.inv(matmul_x_x_transpose)\n",
    "except numpy.linalg.LinAlgError:\n",
    "    print('MATRIX NOT INVERTIBLE')\n",
    "    \n",
    "params = np.dot(np.dot(inverse_matmul, x_train_transposed), y_train)\n",
    "params"
   ]
  },
  {
   "cell_type": "code",
   "execution_count": null,
   "metadata": {},
   "outputs": [],
   "source": [
    "np.dot(x_train[0], params)"
   ]
  },
  {
   "cell_type": "code",
   "execution_count": null,
   "metadata": {},
   "outputs": [],
   "source": [
    "np.dot(x_train[0:5], params)"
   ]
  },
  {
   "cell_type": "code",
   "execution_count": null,
   "metadata": {},
   "outputs": [],
   "source": [
    "x = np.array([1,2,3,5])\n",
    "y = np.array([3,2,1,10])\n",
    "\n",
    "np.sum((x-y)**2)"
   ]
  },
  {
   "cell_type": "code",
   "execution_count": null,
   "metadata": {},
   "outputs": [],
   "source": [
    "for a, b in zip(x, y):\n",
    "    print(a, b)"
   ]
  },
  {
   "cell_type": "code",
   "execution_count": null,
   "metadata": {},
   "outputs": [],
   "source": []
  }
 ],
 "metadata": {
  "kernelspec": {
   "display_name": "Python 3",
   "language": "python",
   "name": "python3"
  },
  "language_info": {
   "codemirror_mode": {
    "name": "ipython",
    "version": 3
   },
   "file_extension": ".py",
   "mimetype": "text/x-python",
   "name": "python",
   "nbconvert_exporter": "python",
   "pygments_lexer": "ipython3",
   "version": "3.6.5"
  }
 },
 "nbformat": 4,
 "nbformat_minor": 2
}
