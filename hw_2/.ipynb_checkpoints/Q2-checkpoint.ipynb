{
 "cells": [
  {
   "cell_type": "code",
   "execution_count": null,
   "metadata": {},
   "outputs": [],
   "source": [
    "from helper import Helper\n",
    "\n",
    "threshold = 0.5\n",
    "\n",
    "# TO DO:\n",
    "# 1. Create linear regression -> confirm if it is needed to be from scratch or we can use sklearn\n",
    "# 2. The function is called eta, compute square loss to the test data\n",
    "# 3. Second function is classifier, basically takes threshold and output binary class, compute square loss\n",
    "\n",
    "if __name__=='__main__':\n",
    "    print(Helper.load_csv('data/compas-train.csv'))"
   ]
  }
 ],
 "metadata": {
  "kernelspec": {
   "display_name": "Python 3",
   "language": "python",
   "name": "python3"
  },
  "language_info": {
   "codemirror_mode": {
    "name": "ipython",
    "version": 3
   },
   "file_extension": ".py",
   "mimetype": "text/x-python",
   "name": "python",
   "nbconvert_exporter": "python",
   "pygments_lexer": "ipython3",
   "version": "3.6.5"
  }
 },
 "nbformat": 4,
 "nbformat_minor": 2
}
