{
 "cells": [
  {
   "cell_type": "markdown",
   "metadata": {},
   "source": [
    "# Functions for calculating NN"
   ]
  },
  {
   "cell_type": "code",
   "execution_count": 1,
   "metadata": {},
   "outputs": [],
   "source": [
    "from scipy.io import loadmat\n",
    "from random import sample\n",
    "import numpy as np\n",
    "import time\n",
    "import sys\n",
    "\n",
    "def calculate_distances_matrix(test_vectors, train_vectors):\n",
    "    sum_squared_of_test_vectors = np.sum(np.square(test_vectors), axis=1)\n",
    "    sum_squared_of_train_vectors = np.sum(np.square(train_vectors), axis=1)\n",
    "    matrix_multiplication = np.dot(test_vectors, train_vectors.T)\n",
    "\n",
    "    return np.sqrt(sum_squared_of_test_vectors[:, np.newaxis] + sum_squared_of_train_vectors - 2 * matrix_multiplication)\n",
    "\n",
    "def get_label(dist_vector, label_vector, k):\n",
    "    k_smallest_indexes = np.argpartition(arr, k)[:k]\n",
    "    count_dict = {}\n",
    "    for idx in k_smallest_indexes:\n",
    "        label = label_vector[idx]\n",
    "        if label not in count_dict:\n",
    "            count_dict[label] = 1\n",
    "        else:\n",
    "            count_dict[label] = label + 1\n",
    "    # Note that this will only \n",
    "    max(stats.items(), key=operator.itemgetter(1))[0]\n",
    "\n",
    "def nn(X,Y,test):\n",
    "    start = time.time()\n",
    "    preds = []\n",
    "\n",
    "    distances_matrix = calculate_distances_matrix(test, X)\n",
    "    for row in distances_matrix:\n",
    "        min_idx = np.argmin(row)\n",
    "        preds.append(Y[min_idx])\n",
    "\n",
    "    print(str(time.time()-start) + \" seconds\")\n",
    "    return preds\n",
    "\n",
    "def knn(X,Y,test,k):\n",
    "    start = time.time()\n",
    "    preds = []\n",
    "\n",
    "    distances_matrix = calculate_distances_matrix(test, X)\n",
    "    for row in distances_matrix:\n",
    "        min_idx = np.argmin(row)\n",
    "        preds.append(Y[min_idx])\n",
    "\n",
    "    print(str(time.time()-start) + \" seconds\")\n",
    "    return preds"
   ]
  },
  {
   "cell_type": "markdown",
   "metadata": {},
   "source": [
    "# Functions for visualization"
   ]
  },
  {
   "cell_type": "code",
   "execution_count": 5,
   "metadata": {
    "scrolled": true
   },
   "outputs": [],
   "source": [
    "%matplotlib inline\n",
    "import matplotlib.pyplot as plt\n",
    "\n",
    "def plot_learning_curve(title, train_sizes, mean_errors, std_errors):\n",
    "    plt.figure()\n",
    "    plt.title(title)\n",
    "    plt.xlabel(\"Training examples\")\n",
    "    plt.ylabel(\"Average test error rates\")\n",
    "    plt.grid()\n",
    "    plt.errorbar(train_sizes, mean_errors, yerr=std_errors, color=\"g\", ecolor=\"r\")\n",
    "\n",
    "    plt.legend(loc=\"best\")\n",
    "    return plt"
   ]
  },
  {
   "cell_type": "code",
   "execution_count": 3,
   "metadata": {},
   "outputs": [
    {
     "name": "stdout",
     "output_type": "stream",
     "text": [
      "Executing for n = 1000\n",
      "0.6527769565582275 seconds\n",
      "0.35671186447143555 seconds\n",
      "0.3445918560028076 seconds\n",
      "0.5067369937896729 seconds\n",
      "0.5983157157897949 seconds\n",
      "0.4352288246154785 seconds\n",
      "0.4792008399963379 seconds\n",
      "0.3963451385498047 seconds\n",
      "0.35059309005737305 seconds\n",
      "0.3402268886566162 seconds\n",
      "--------------------\n",
      "Executing for n = 2000\n",
      "0.8905143737792969 seconds\n",
      "0.8632969856262207 seconds\n",
      "0.8369107246398926 seconds\n",
      "0.8479907512664795 seconds\n",
      "0.8490910530090332 seconds\n",
      "0.8378138542175293 seconds\n",
      "0.9862139225006104 seconds\n",
      "0.9661850929260254 seconds\n",
      "0.8710551261901855 seconds\n",
      "0.842292070388794 seconds\n",
      "--------------------\n",
      "Executing for n = 4000\n",
      "3.17979097366333 seconds\n",
      "1.7493040561676025 seconds\n",
      "1.614753246307373 seconds\n",
      "1.6146399974822998 seconds\n",
      "1.6330249309539795 seconds\n",
      "1.619614839553833 seconds\n",
      "1.7101221084594727 seconds\n",
      "1.6266849040985107 seconds\n",
      "1.6431357860565186 seconds\n",
      "1.6275749206542969 seconds\n",
      "--------------------\n",
      "Executing for n = 8000\n",
      "6.448198080062866 seconds\n",
      "3.2466869354248047 seconds\n",
      "3.323837995529175 seconds\n",
      "3.193100929260254 seconds\n",
      "3.300837993621826 seconds\n",
      "3.3776698112487793 seconds\n",
      "3.206855058670044 seconds\n",
      "3.200695037841797 seconds\n",
      "3.3715579509735107 seconds\n",
      "3.1929361820220947 seconds\n",
      "--------------------\n",
      "1000, 0.11485000000000001, 0.0029843759816752316\n",
      "2000, 0.09001, 0.0030217379105408845\n",
      "4000, 0.06882, 0.002098475637218598\n",
      "8000, 0.055779999999999996, 0.0020409801566894275\n"
     ]
    }
   ],
   "source": [
    "if __name__ == '__main__':\n",
    "    ocr = loadmat('ocr.mat')\n",
    "    \n",
    "    mean_errors = []\n",
    "    std_errors = []\n",
    "    \n",
    "    num_trials = 10\n",
    "    train_sizes = [1000, 2000, 4000, 8000]\n",
    "    \n",
    "    for n in train_sizes:\n",
    "        test_err = np.zeros(num_trials)\n",
    "        print('Executing for n = ' + str(n))\n",
    "        \n",
    "        for trial in range(num_trials):\n",
    "            sel = sample(range(len(ocr['data'].astype('float'))),n)\n",
    "            preds = nn(ocr['data'].astype('float')[sel], ocr['labels'][sel], ocr['testdata'].astype('float'))\n",
    "            test_err[trial] = np.mean(preds != ocr['testlabels'])\n",
    "        \n",
    "        mean_errors.append(np.mean(test_err))\n",
    "        std_errors.append(np.std(test_err))\n",
    "        \n",
    "        print('--------------------')\n",
    "        \n",
    "for i in range(0, 4):\n",
    "    print(str(train_sizes[i]) + \", \" + str(mean_errors[i]) + \", \" + str(std_errors[i]))"
   ]
  },
  {
   "cell_type": "code",
   "execution_count": 6,
   "metadata": {},
   "outputs": [
    {
     "name": "stderr",
     "output_type": "stream",
     "text": [
      "No handles with labels found to put in legend.\n"
     ]
    },
    {
     "data": {
      "image/png": "[encoded data removed]",
      "text/plain": [
       "<Figure size 432x288 with 1 Axes>"
      ]
     },
     "metadata": {
      "needs_background": "light"
     },
     "output_type": "display_data"
    }
   ],
   "source": [
    "plt = plot_learning_curve(\"Nearest Neighbor Learning Curve\", train_sizes, mean_errors, std_errors)\n",
    "plt.savefig('coba-coba.png', bbox_inches='tight')"
   ]
  },
  {
   "cell_type": "code",
   "execution_count": 10,
   "metadata": {},
   "outputs": [
    {
     "name": "stdout",
     "output_type": "stream",
     "text": [
      "[1 2 3 4 5 6 7 8 9] [0]\n",
      "[0 2 3 4 5 6 7 8 9] [1]\n",
      "[0 1 3 4 5 6 7 8 9] [2]\n",
      "[0 1 2 4 5 6 7 8 9] [3]\n",
      "[0 1 2 3 5 6 7 8 9] [4]\n",
      "[0 1 2 3 4 6 7 8 9] [5]\n",
      "[0 1 2 3 4 5 7 8 9] [6]\n",
      "[0 1 2 3 4 5 6 8 9] [7]\n",
      "[0 1 2 3 4 5 6 7 9] [8]\n",
      "[0 1 2 3 4 5 6 7 8] [9]\n"
     ]
    }
   ],
   "source": [
    "from sklearn.model_selection import KFold\n",
    "\n",
    "X = np.zeros(10)\n",
    "kf = KFold(n_splits=10)\n",
    "for train, test in kf.split(X):\n",
    "    print(\"%s %s\" % (train, test))"
   ]
  },
  {
   "cell_type": "code",
   "execution_count": null,
   "metadata": {},
   "outputs": [],
   "source": [
    "from sklearn.model_selection import KFold\n",
    "\n",
    "kf = KFold(n_splits=10)\n",
    "for train, test in kf.split():\n",
    "    print(\"%s %s\" % (train, test))"
   ]
  }
 ],
 "metadata": {
  "kernelspec": {
   "display_name": "Python 3",
   "language": "python",
   "name": "python3"
  },
  "language_info": {
   "codemirror_mode": {
    "name": "ipython",
    "version": 3
   },
   "file_extension": ".py",
   "mimetype": "text/x-python",
   "name": "python",
   "nbconvert_exporter": "python",
   "pygments_lexer": "ipython3",
   "version": "3.6.5"
  }
 },
 "nbformat": 4,
 "nbformat_minor": 2
}
